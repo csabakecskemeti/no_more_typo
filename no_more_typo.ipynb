{
 "cells": [
  {
   "cell_type": "code",
   "execution_count": null,
   "id": "53ed7953-58bf-4662-a440-0f2f0c9266af",
   "metadata": {},
   "outputs": [],
   "source": [
    "Helloween is my favourite hollyday "
   ]
  },
  {
   "cell_type": "code",
   "execution_count": null,
   "id": "c8c79ad4-27f0-4ef6-85c5-4b4372a30473",
   "metadata": {},
   "outputs": [],
   "source": [
    "Halloween is my favorite holiday.z"
   ]
  },
  {
   "cell_type": "code",
   "execution_count": 5,
   "id": "43a9c90d-121f-4901-b4cd-e4e3e7c6a708",
   "metadata": {},
   "outputs": [
    {
     "name": "stdout",
     "output_type": "stream",
     "text": [
      "Looking in indexes: https://pypi.org/simple, https://pip.repos.neuron.amazonaws.com\n",
      "Requirement already satisfied: pyperclip in /Users/kecso/miniconda3/envs/sandbox/lib/python3.11/site-packages (1.9.0)\n",
      "Requirement already satisfied: pynput in /Users/kecso/miniconda3/envs/sandbox/lib/python3.11/site-packages (1.7.7)\n",
      "Requirement already satisfied: langchain in /Users/kecso/miniconda3/envs/sandbox/lib/python3.11/site-packages (0.2.14)\n",
      "Collecting langchain-openai\n",
      "  Downloading langchain_openai-0.1.21-py3-none-any.whl.metadata (2.6 kB)\n",
      "Requirement already satisfied: langchain-community in /Users/kecso/miniconda3/envs/sandbox/lib/python3.11/site-packages (0.2.12)\n",
      "Requirement already satisfied: langchain-core in /Users/kecso/miniconda3/envs/sandbox/lib/python3.11/site-packages (0.2.32)\n",
      "Requirement already satisfied: six in /Users/kecso/miniconda3/envs/sandbox/lib/python3.11/site-packages (from pynput) (1.16.0)\n",
      "Requirement already satisfied: pyobjc-framework-ApplicationServices>=8.0 in /Users/kecso/miniconda3/envs/sandbox/lib/python3.11/site-packages (from pynput) (10.3.1)\n",
      "Requirement already satisfied: pyobjc-framework-Quartz>=8.0 in /Users/kecso/miniconda3/envs/sandbox/lib/python3.11/site-packages (from pynput) (10.3.1)\n",
      "Requirement already satisfied: PyYAML>=5.3 in /Users/kecso/miniconda3/envs/sandbox/lib/python3.11/site-packages (from langchain) (6.0.1)\n",
      "Requirement already satisfied: SQLAlchemy<3,>=1.4 in /Users/kecso/miniconda3/envs/sandbox/lib/python3.11/site-packages (from langchain) (2.0.32)\n",
      "Requirement already satisfied: aiohttp<4.0.0,>=3.8.3 in /Users/kecso/miniconda3/envs/sandbox/lib/python3.11/site-packages (from langchain) (3.9.4)\n",
      "Requirement already satisfied: langchain-text-splitters<0.3.0,>=0.2.0 in /Users/kecso/miniconda3/envs/sandbox/lib/python3.11/site-packages (from langchain) (0.2.2)\n",
      "Requirement already satisfied: langsmith<0.2.0,>=0.1.17 in /Users/kecso/miniconda3/envs/sandbox/lib/python3.11/site-packages (from langchain) (0.1.99)\n",
      "Requirement already satisfied: numpy<2,>=1 in /Users/kecso/miniconda3/envs/sandbox/lib/python3.11/site-packages (from langchain) (1.26.4)\n",
      "Requirement already satisfied: pydantic<3,>=1 in /Users/kecso/miniconda3/envs/sandbox/lib/python3.11/site-packages (from langchain) (2.7.0)\n",
      "Requirement already satisfied: requests<3,>=2 in /Users/kecso/miniconda3/envs/sandbox/lib/python3.11/site-packages (from langchain) (2.31.0)\n",
      "Requirement already satisfied: tenacity!=8.4.0,<9.0.0,>=8.1.0 in /Users/kecso/miniconda3/envs/sandbox/lib/python3.11/site-packages (from langchain) (8.3.0)\n",
      "Collecting openai<2.0.0,>=1.40.0 (from langchain-openai)\n",
      "  Downloading openai-1.40.6-py3-none-any.whl.metadata (22 kB)\n",
      "Collecting tiktoken<1,>=0.7 (from langchain-openai)\n",
      "  Downloading tiktoken-0.7.0-cp311-cp311-macosx_11_0_arm64.whl.metadata (6.6 kB)\n",
      "Requirement already satisfied: dataclasses-json<0.7,>=0.5.7 in /Users/kecso/miniconda3/envs/sandbox/lib/python3.11/site-packages (from langchain-community) (0.6.7)\n",
      "Requirement already satisfied: jsonpatch<2.0,>=1.33 in /Users/kecso/miniconda3/envs/sandbox/lib/python3.11/site-packages (from langchain-core) (1.33)\n",
      "Requirement already satisfied: packaging<25,>=23.2 in /Users/kecso/miniconda3/envs/sandbox/lib/python3.11/site-packages (from langchain-core) (24.0)\n",
      "Requirement already satisfied: typing-extensions>=4.7 in /Users/kecso/miniconda3/envs/sandbox/lib/python3.11/site-packages (from langchain-core) (4.11.0)\n",
      "Requirement already satisfied: aiosignal>=1.1.2 in /Users/kecso/miniconda3/envs/sandbox/lib/python3.11/site-packages (from aiohttp<4.0.0,>=3.8.3->langchain) (1.3.1)\n",
      "Requirement already satisfied: attrs>=17.3.0 in /Users/kecso/miniconda3/envs/sandbox/lib/python3.11/site-packages (from aiohttp<4.0.0,>=3.8.3->langchain) (23.2.0)\n",
      "Requirement already satisfied: frozenlist>=1.1.1 in /Users/kecso/miniconda3/envs/sandbox/lib/python3.11/site-packages (from aiohttp<4.0.0,>=3.8.3->langchain) (1.4.1)\n",
      "Requirement already satisfied: multidict<7.0,>=4.5 in /Users/kecso/miniconda3/envs/sandbox/lib/python3.11/site-packages (from aiohttp<4.0.0,>=3.8.3->langchain) (6.0.5)\n",
      "Requirement already satisfied: yarl<2.0,>=1.0 in /Users/kecso/miniconda3/envs/sandbox/lib/python3.11/site-packages (from aiohttp<4.0.0,>=3.8.3->langchain) (1.9.4)\n",
      "Requirement already satisfied: marshmallow<4.0.0,>=3.18.0 in /Users/kecso/miniconda3/envs/sandbox/lib/python3.11/site-packages (from dataclasses-json<0.7,>=0.5.7->langchain-community) (3.21.3)\n",
      "Requirement already satisfied: typing-inspect<1,>=0.4.0 in /Users/kecso/miniconda3/envs/sandbox/lib/python3.11/site-packages (from dataclasses-json<0.7,>=0.5.7->langchain-community) (0.9.0)\n",
      "Requirement already satisfied: jsonpointer>=1.9 in /Users/kecso/miniconda3/envs/sandbox/lib/python3.11/site-packages (from jsonpatch<2.0,>=1.33->langchain-core) (2.4)\n",
      "Requirement already satisfied: orjson<4.0.0,>=3.9.14 in /Users/kecso/miniconda3/envs/sandbox/lib/python3.11/site-packages (from langsmith<0.2.0,>=0.1.17->langchain) (3.10.3)\n",
      "Requirement already satisfied: anyio<5,>=3.5.0 in /Users/kecso/miniconda3/envs/sandbox/lib/python3.11/site-packages (from openai<2.0.0,>=1.40.0->langchain-openai) (4.3.0)\n",
      "Requirement already satisfied: distro<2,>=1.7.0 in /Users/kecso/miniconda3/envs/sandbox/lib/python3.11/site-packages (from openai<2.0.0,>=1.40.0->langchain-openai) (1.9.0)\n",
      "Requirement already satisfied: httpx<1,>=0.23.0 in /Users/kecso/miniconda3/envs/sandbox/lib/python3.11/site-packages (from openai<2.0.0,>=1.40.0->langchain-openai) (0.27.0)\n",
      "Collecting jiter<1,>=0.4.0 (from openai<2.0.0,>=1.40.0->langchain-openai)\n",
      "  Downloading jiter-0.5.0-cp311-cp311-macosx_11_0_arm64.whl.metadata (3.6 kB)\n",
      "Requirement already satisfied: sniffio in /Users/kecso/miniconda3/envs/sandbox/lib/python3.11/site-packages (from openai<2.0.0,>=1.40.0->langchain-openai) (1.3.1)\n",
      "Requirement already satisfied: tqdm>4 in /Users/kecso/miniconda3/envs/sandbox/lib/python3.11/site-packages (from openai<2.0.0,>=1.40.0->langchain-openai) (4.66.2)\n",
      "Requirement already satisfied: annotated-types>=0.4.0 in /Users/kecso/miniconda3/envs/sandbox/lib/python3.11/site-packages (from pydantic<3,>=1->langchain) (0.6.0)\n",
      "Requirement already satisfied: pydantic-core==2.18.1 in /Users/kecso/miniconda3/envs/sandbox/lib/python3.11/site-packages (from pydantic<3,>=1->langchain) (2.18.1)\n",
      "Requirement already satisfied: pyobjc-core>=10.3.1 in /Users/kecso/miniconda3/envs/sandbox/lib/python3.11/site-packages (from pyobjc-framework-ApplicationServices>=8.0->pynput) (10.3.1)\n",
      "Requirement already satisfied: pyobjc-framework-Cocoa>=10.3.1 in /Users/kecso/miniconda3/envs/sandbox/lib/python3.11/site-packages (from pyobjc-framework-ApplicationServices>=8.0->pynput) (10.3.1)\n",
      "Requirement already satisfied: pyobjc-framework-CoreText>=10.3.1 in /Users/kecso/miniconda3/envs/sandbox/lib/python3.11/site-packages (from pyobjc-framework-ApplicationServices>=8.0->pynput) (10.3.1)\n",
      "Requirement already satisfied: charset-normalizer<4,>=2 in /Users/kecso/miniconda3/envs/sandbox/lib/python3.11/site-packages (from requests<3,>=2->langchain) (3.3.2)\n",
      "Requirement already satisfied: idna<4,>=2.5 in /Users/kecso/miniconda3/envs/sandbox/lib/python3.11/site-packages (from requests<3,>=2->langchain) (3.7)\n",
      "Requirement already satisfied: urllib3<3,>=1.21.1 in /Users/kecso/miniconda3/envs/sandbox/lib/python3.11/site-packages (from requests<3,>=2->langchain) (2.2.1)\n",
      "Requirement already satisfied: certifi>=2017.4.17 in /Users/kecso/miniconda3/envs/sandbox/lib/python3.11/site-packages (from requests<3,>=2->langchain) (2024.2.2)\n",
      "Requirement already satisfied: regex>=2022.1.18 in /Users/kecso/miniconda3/envs/sandbox/lib/python3.11/site-packages (from tiktoken<1,>=0.7->langchain-openai) (2023.12.25)\n",
      "Requirement already satisfied: httpcore==1.* in /Users/kecso/miniconda3/envs/sandbox/lib/python3.11/site-packages (from httpx<1,>=0.23.0->openai<2.0.0,>=1.40.0->langchain-openai) (1.0.5)\n",
      "Requirement already satisfied: h11<0.15,>=0.13 in /Users/kecso/miniconda3/envs/sandbox/lib/python3.11/site-packages (from httpcore==1.*->httpx<1,>=0.23.0->openai<2.0.0,>=1.40.0->langchain-openai) (0.14.0)\n",
      "Requirement already satisfied: mypy-extensions>=0.3.0 in /Users/kecso/miniconda3/envs/sandbox/lib/python3.11/site-packages (from typing-inspect<1,>=0.4.0->dataclasses-json<0.7,>=0.5.7->langchain-community) (1.0.0)\n",
      "Downloading langchain_openai-0.1.21-py3-none-any.whl (49 kB)\n",
      "\u001b[2K   \u001b[38;2;114;156;31m━━━━━━━━━━━━━━━━━━━━━━━━━━━━━━━━━━━━━━━━\u001b[0m \u001b[32m49.8/49.8 kB\u001b[0m \u001b[31m2.4 MB/s\u001b[0m eta \u001b[36m0:00:00\u001b[0m\n",
      "\u001b[?25hDownloading openai-1.40.6-py3-none-any.whl (361 kB)\n",
      "\u001b[2K   \u001b[38;2;114;156;31m━━━━━━━━━━━━━━━━━━━━━━━━━━━━━━━━━━━━━━━━\u001b[0m \u001b[32m361.3/361.3 kB\u001b[0m \u001b[31m7.6 MB/s\u001b[0m eta \u001b[36m0:00:00\u001b[0m[31m7.5 MB/s\u001b[0m eta \u001b[36m0:00:01\u001b[0m\n",
      "\u001b[?25hDownloading tiktoken-0.7.0-cp311-cp311-macosx_11_0_arm64.whl (907 kB)\n",
      "\u001b[2K   \u001b[38;2;114;156;31m━━━━━━━━━━━━━━━━━━━━━━━━━━━━━━━━━━━━━━━━\u001b[0m \u001b[32m907.0/907.0 kB\u001b[0m \u001b[31m14.8 MB/s\u001b[0m eta \u001b[36m0:00:00\u001b[0m MB/s\u001b[0m eta \u001b[36m0:00:01\u001b[0m\n",
      "\u001b[?25hDownloading jiter-0.5.0-cp311-cp311-macosx_11_0_arm64.whl (299 kB)\n",
      "\u001b[2K   \u001b[38;2;114;156;31m━━━━━━━━━━━━━━━━━━━━━━━━━━━━━━━━━━━━━━━━\u001b[0m \u001b[32m299.3/299.3 kB\u001b[0m \u001b[31m18.3 MB/s\u001b[0m eta \u001b[36m0:00:00\u001b[0m\n",
      "\u001b[?25hInstalling collected packages: jiter, tiktoken, openai, langchain-openai\n",
      "  Attempting uninstall: openai\n",
      "    Found existing installation: openai 1.17.1\n",
      "    Uninstalling openai-1.17.1:\n",
      "      Successfully uninstalled openai-1.17.1\n",
      "Successfully installed jiter-0.5.0 langchain-openai-0.1.21 openai-1.40.6 tiktoken-0.7.0\n"
     ]
    }
   ],
   "source": [
    "!pip install --upgrade pyperclip pynput langchain langchain-openai langchain-community langchain-core #--quiet"
   ]
  },
  {
   "cell_type": "code",
   "execution_count": 17,
   "id": "836c4736-b600-4d1d-b165-33643dd0f679",
   "metadata": {},
   "outputs": [],
   "source": [
    "import pyperclip\n",
    "from pynput import keyboard\n",
    "from langchain.llms.openai import OpenAI\n",
    "from langchain_core.prompts import PromptTemplate\n",
    "from langchain.chains import LLMChain\n",
    "from langchain.schema.runnable import RunnableLambda\n",
    "import os\n",
    "import warnings\n",
    "\n",
    "# Suppress all warnings\n",
    "warnings.filterwarnings(\"ignore\")"
   ]
  },
  {
   "cell_type": "code",
   "execution_count": 4,
   "id": "12a83cc6-4bf8-46da-ace1-7fc2520eaef9",
   "metadata": {},
   "outputs": [],
   "source": [
    "# llm = OpenAI(base_url=\"http://localhost:1234/v1\", api_key=\"lm-studio\")\n",
    "# llm = OpenAI(api_key=os.environ.get('OPENAI_API_KEY'))\n",
    "llm = OpenAI()\n"
   ]
  },
  {
   "cell_type": "code",
   "execution_count": 9,
   "id": "709b5e1c-cd3a-4f24-b3f6-798e637c7933",
   "metadata": {},
   "outputs": [],
   "source": [
    "prompt = PromptTemplate.from_template(\n",
    "    \"\"\"Fix the text without adding any quotation marks or extra characters. \n",
    "    Just respond with the corrected text:\\n\\n{text}\\n\\nThe correct string is:\"\"\"\n",
    ")\n",
    "\n"
   ]
  },
  {
   "cell_type": "code",
   "execution_count": 23,
   "id": "df95f13d-7be0-42ea-b171-8b513eac68bd",
   "metadata": {},
   "outputs": [],
   "source": [
    "no_typo_chain = prompt | llm | cleanup"
   ]
  },
  {
   "cell_type": "code",
   "execution_count": 22,
   "id": "559aeb61-d68e-409c-876e-9af6d7f87920",
   "metadata": {},
   "outputs": [
    {
     "data": {
      "text/plain": [
       "' \"This is the beginning\".'"
      ]
     },
     "execution_count": 22,
     "metadata": {},
     "output_type": "execute_result"
    }
   ],
   "source": [
    "no_typo_chain.invoke(\"thi is the beginig\")"
   ]
  },
  {
   "cell_type": "code",
   "execution_count": 18,
   "id": "7815fedd-3138-4835-95a0-e4ab090025de",
   "metadata": {},
   "outputs": [],
   "source": [
    "def clean_string(text):\n",
    "    # Strip leading and trailing whitespace\n",
    "    cleaned_text = text.strip()\n",
    "    \n",
    "    # Strip leading and trailing quotes\n",
    "    cleaned_text = cleaned_text.strip('\"').strip(\"'\")\n",
    "    \n",
    "    return cleaned_text\n",
    "\n",
    "cleanup = RunnableLambda(\n",
    "    lambda x: x.strip().strip('\"').strip(\"'\")\n",
    ")\n",
    "\n",
    "# def f(text, llm, prompt_template):\n",
    "#     prompt = prompt_template.format(text=text)\n",
    "#     response = llm.invoke(prompt)\n",
    "#     return clean_string(response)\n",
    "def f(text, no_typo_chain):\n",
    "    response = no_typo_chain.invoke(text)\n",
    "    return clean_string(response)"
   ]
  },
  {
   "cell_type": "code",
   "execution_count": 15,
   "id": "b5ec55d1-dc9e-4dd3-a5b5-2e5af337cc69",
   "metadata": {},
   "outputs": [
    {
     "name": "stderr",
     "output_type": "stream",
     "text": [
      "This process is not trusted! Input event monitoring will not be possible until it is added to accessibility clients.\n"
     ]
    },
    {
     "ename": "KeyboardInterrupt",
     "evalue": "",
     "output_type": "error",
     "traceback": [
      "\u001b[0;31m---------------------------------------------------------------------------\u001b[0m",
      "\u001b[0;31mKeyboardInterrupt\u001b[0m                         Traceback (most recent call last)",
      "Cell \u001b[0;32mIn[15], line 12\u001b[0m\n\u001b[1;32m      4\u001b[0m     pyperclip\u001b[38;5;241m.\u001b[39mcopy(processed_content)\n\u001b[1;32m      6\u001b[0m \u001b[38;5;28;01mwith\u001b[39;00m keyboard\u001b[38;5;241m.\u001b[39mGlobalHotKeys(\n\u001b[1;32m      7\u001b[0m     {\n\u001b[1;32m      8\u001b[0m         \u001b[38;5;124m'\u001b[39m\u001b[38;5;124m<ctrl>+<shift>+z\u001b[39m\u001b[38;5;124m'\u001b[39m: on_activate,\n\u001b[1;32m      9\u001b[0m         \u001b[38;5;124m'\u001b[39m\u001b[38;5;124m<ctrl>+<shift>+x\u001b[39m\u001b[38;5;124m'\u001b[39m: on_activate\n\u001b[1;32m     10\u001b[0m     }\n\u001b[1;32m     11\u001b[0m ) \u001b[38;5;28;01mas\u001b[39;00m h:\n\u001b[0;32m---> 12\u001b[0m     \u001b[43mh\u001b[49m\u001b[38;5;241;43m.\u001b[39;49m\u001b[43mjoin\u001b[49m\u001b[43m(\u001b[49m\u001b[43m)\u001b[49m\n",
      "File \u001b[0;32m~/miniconda3/envs/sandbox/lib/python3.11/site-packages/pynput/_util/__init__.py:271\u001b[0m, in \u001b[0;36mAbstractListener.join\u001b[0;34m(self, timeout, *args)\u001b[0m\n\u001b[1;32m    269\u001b[0m \u001b[38;5;28;01mdef\u001b[39;00m \u001b[38;5;21mjoin\u001b[39m(\u001b[38;5;28mself\u001b[39m, timeout\u001b[38;5;241m=\u001b[39m\u001b[38;5;28;01mNone\u001b[39;00m, \u001b[38;5;241m*\u001b[39margs):\n\u001b[1;32m    270\u001b[0m     start \u001b[38;5;241m=\u001b[39m time\u001b[38;5;241m.\u001b[39mtime()\n\u001b[0;32m--> 271\u001b[0m     \u001b[38;5;28;43msuper\u001b[39;49m\u001b[43m(\u001b[49m\u001b[43mAbstractListener\u001b[49m\u001b[43m,\u001b[49m\u001b[43m \u001b[49m\u001b[38;5;28;43mself\u001b[39;49m\u001b[43m)\u001b[49m\u001b[38;5;241;43m.\u001b[39;49m\u001b[43mjoin\u001b[49m\u001b[43m(\u001b[49m\u001b[43mtimeout\u001b[49m\u001b[43m,\u001b[49m\u001b[43m \u001b[49m\u001b[38;5;241;43m*\u001b[39;49m\u001b[43margs\u001b[49m\u001b[43m)\u001b[49m\n\u001b[1;32m    272\u001b[0m     timeout \u001b[38;5;241m=\u001b[39m \u001b[38;5;28mmax\u001b[39m(\u001b[38;5;241m0.0\u001b[39m, timeout \u001b[38;5;241m-\u001b[39m (time\u001b[38;5;241m.\u001b[39mtime() \u001b[38;5;241m-\u001b[39m start)) \\\n\u001b[1;32m    273\u001b[0m         \u001b[38;5;28;01mif\u001b[39;00m timeout \u001b[38;5;129;01mis\u001b[39;00m \u001b[38;5;129;01mnot\u001b[39;00m \u001b[38;5;28;01mNone\u001b[39;00m \\\n\u001b[1;32m    274\u001b[0m         \u001b[38;5;28;01melse\u001b[39;00m \u001b[38;5;28;01mNone\u001b[39;00m\n\u001b[1;32m    276\u001b[0m     \u001b[38;5;66;03m# Reraise any exceptions; make sure not to block if a timeout was\u001b[39;00m\n\u001b[1;32m    277\u001b[0m     \u001b[38;5;66;03m# provided\u001b[39;00m\n",
      "File \u001b[0;32m~/miniconda3/envs/sandbox/lib/python3.11/threading.py:1119\u001b[0m, in \u001b[0;36mThread.join\u001b[0;34m(self, timeout)\u001b[0m\n\u001b[1;32m   1116\u001b[0m     \u001b[38;5;28;01mraise\u001b[39;00m \u001b[38;5;167;01mRuntimeError\u001b[39;00m(\u001b[38;5;124m\"\u001b[39m\u001b[38;5;124mcannot join current thread\u001b[39m\u001b[38;5;124m\"\u001b[39m)\n\u001b[1;32m   1118\u001b[0m \u001b[38;5;28;01mif\u001b[39;00m timeout \u001b[38;5;129;01mis\u001b[39;00m \u001b[38;5;28;01mNone\u001b[39;00m:\n\u001b[0;32m-> 1119\u001b[0m     \u001b[38;5;28;43mself\u001b[39;49m\u001b[38;5;241;43m.\u001b[39;49m\u001b[43m_wait_for_tstate_lock\u001b[49m\u001b[43m(\u001b[49m\u001b[43m)\u001b[49m\n\u001b[1;32m   1120\u001b[0m \u001b[38;5;28;01melse\u001b[39;00m:\n\u001b[1;32m   1121\u001b[0m     \u001b[38;5;66;03m# the behavior of a negative timeout isn't documented, but\u001b[39;00m\n\u001b[1;32m   1122\u001b[0m     \u001b[38;5;66;03m# historically .join(timeout=x) for x<0 has acted as if timeout=0\u001b[39;00m\n\u001b[1;32m   1123\u001b[0m     \u001b[38;5;28mself\u001b[39m\u001b[38;5;241m.\u001b[39m_wait_for_tstate_lock(timeout\u001b[38;5;241m=\u001b[39m\u001b[38;5;28mmax\u001b[39m(timeout, \u001b[38;5;241m0\u001b[39m))\n",
      "File \u001b[0;32m~/miniconda3/envs/sandbox/lib/python3.11/threading.py:1139\u001b[0m, in \u001b[0;36mThread._wait_for_tstate_lock\u001b[0;34m(self, block, timeout)\u001b[0m\n\u001b[1;32m   1136\u001b[0m     \u001b[38;5;28;01mreturn\u001b[39;00m\n\u001b[1;32m   1138\u001b[0m \u001b[38;5;28;01mtry\u001b[39;00m:\n\u001b[0;32m-> 1139\u001b[0m     \u001b[38;5;28;01mif\u001b[39;00m \u001b[43mlock\u001b[49m\u001b[38;5;241;43m.\u001b[39;49m\u001b[43macquire\u001b[49m\u001b[43m(\u001b[49m\u001b[43mblock\u001b[49m\u001b[43m,\u001b[49m\u001b[43m \u001b[49m\u001b[43mtimeout\u001b[49m\u001b[43m)\u001b[49m:\n\u001b[1;32m   1140\u001b[0m         lock\u001b[38;5;241m.\u001b[39mrelease()\n\u001b[1;32m   1141\u001b[0m         \u001b[38;5;28mself\u001b[39m\u001b[38;5;241m.\u001b[39m_stop()\n",
      "\u001b[0;31mKeyboardInterrupt\u001b[0m: "
     ]
    }
   ],
   "source": [
    "\n",
    "def on_activate():\n",
    "    original_clipboard_content = pyperclip.paste()\n",
    "    processed_content = f(original_clipboard_content, no_typo_chain)\n",
    "    pyperclip.copy(processed_content)\n",
    "\n",
    "with keyboard.GlobalHotKeys(\n",
    "    {\n",
    "        '<ctrl>+<shift>+z': on_activate,\n",
    "        '<ctrl>+<shift>+x': on_activate\n",
    "    }\n",
    ") as h:\n",
    "    h.join()"
   ]
  },
  {
   "cell_type": "code",
   "execution_count": null,
   "id": "87788378-7602-4192-ab21-79abf8322553",
   "metadata": {},
   "outputs": [],
   "source": [
    "Beetle is going on a sunflower."
   ]
  },
  {
   "cell_type": "code",
   "execution_count": null,
   "id": "7cca83b1-6c45-4a29-85d5-8e68562166e6",
   "metadata": {},
   "outputs": [],
   "source": [
    "I'm gonne take a rest after luntch"
   ]
  },
  {
   "cell_type": "code",
   "execution_count": null,
   "id": "62335482-ac3e-4901-a0f7-e25937165657",
   "metadata": {},
   "outputs": [],
   "source": [
    "I'm gonna take a rest after lunch"
   ]
  },
  {
   "cell_type": "code",
   "execution_count": null,
   "id": "ad364413-ef7d-4e1e-b1e7-3cf7f014c6ba",
   "metadata": {},
   "outputs": [],
   "source": [
    "This is a long sentenc I;m ruse I;ll make some mitkate so would be nice to get fixed"
   ]
  },
  {
   "cell_type": "code",
   "execution_count": null,
   "id": "e6517969-847f-4c5a-91f5-ec39905a3ebc",
   "metadata": {},
   "outputs": [],
   "source": [
    "\n",
    "\"This is a long sentence. I'm sorry, I'll make some mistakes so it would be nice to get them fixed.\""
   ]
  },
  {
   "cell_type": "code",
   "execution_count": null,
   "id": "e78bd259-70e7-47cd-91a3-01bc740aa522",
   "metadata": {},
   "outputs": [],
   "source": [
    "f(\"I'm gonne take a rest after luntch\")"
   ]
  },
  {
   "cell_type": "code",
   "execution_count": null,
   "id": "456a2eb5-f8eb-4d9b-a2db-513f2caeeb3d",
   "metadata": {},
   "outputs": [],
   "source": [
    "ChatCompletionMessage(content='Beatle is going on a sunset tour\\n\\n', role='assistant', function_call=None, tool_calls=None)"
   ]
  },
  {
   "cell_type": "code",
   "execution_count": null,
   "id": "d7a5615b-c357-4cc7-a4aa-a9f4b860be79",
   "metadata": {},
   "outputs": [],
   "source": [
    "hello world BEEATLE IS GOING ON A SUNFLOVER"
   ]
  }
 ],
 "metadata": {
  "kernelspec": {
   "display_name": "Python 3 (ipykernel)",
   "language": "python",
   "name": "python3"
  },
  "language_info": {
   "codemirror_mode": {
    "name": "ipython",
    "version": 3
   },
   "file_extension": ".py",
   "mimetype": "text/x-python",
   "name": "python",
   "nbconvert_exporter": "python",
   "pygments_lexer": "ipython3",
   "version": "3.11.8"
  }
 },
 "nbformat": 4,
 "nbformat_minor": 5
}
